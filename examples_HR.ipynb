{
  "nbformat": 4,
  "nbformat_minor": 0,
  "metadata": {
    "colab": {
      "name": "examples_HR.ipynb",
      "provenance": [],
      "collapsed_sections": [],
      "authorship_tag": "ABX9TyPQjDfEJSahyy+Sa7jUD4ex",
      "include_colab_link": true
    },
    "kernelspec": {
      "name": "python3",
      "display_name": "Python 3"
    },
    "language_info": {
      "name": "python"
    }
  },
  "cells": [
    {
      "cell_type": "markdown",
      "metadata": {
        "id": "view-in-github",
        "colab_type": "text"
      },
      "source": [
        "<a href=\"https://colab.research.google.com/github/ellendulasharan/shaan/blob/main/examples_HR.ipynb\" target=\"_parent\"><img src=\"https://colab.research.google.com/assets/colab-badge.svg\" alt=\"Open In Colab\"/></a>"
      ]
    },
    {
      "cell_type": "code",
      "metadata": {
        "colab": {
          "base_uri": "https://localhost:8080/"
        },
        "id": "rR5DFg45R71L",
        "outputId": "e5b90356-250d-4a5d-de15-9236369cd7bf"
      },
      "source": [
        "n = int(input())\n",
        "l = []\n",
        "for i in range(n):\n",
        "    k = input()\n",
        "    l.append(k)\n",
        "for i in l:\n",
        "    if len(i) == 10 and i.isalnum():\n",
        "        upper = 0\n",
        "        num = 0\n",
        "        for j in i:\n",
        "            if j.isupper():\n",
        "                upper = upper + 1\n",
        "            if j in [\"0\",\"1\",\"2\",\"3\",\"4\",\"5\",\"6\",\"7\",\"8\",'9']:\n",
        "                num = num + 1\n",
        "        s = 0\n",
        "        for j in range(len(i)):\n",
        "            for k in range(j + 1, len(i)):\n",
        "                if (i[j] == i[k]):\n",
        "                    s = s + 1\n",
        "        if upper>=2 and num>=3 and s == 0:\n",
        "            print(\"Valid\")\n",
        "        else:\n",
        "            print(\"Invalid\")\n",
        "    else:\n",
        "        print(\"Invalid\")\n"
      ],
      "execution_count": null,
      "outputs": [
        {
          "output_type": "stream",
          "text": [
            "2\n",
            "B1CD102354\n",
            "B1CDEF2354\n",
            "Invalid\n",
            "Valid\n"
          ],
          "name": "stdout"
        }
      ]
    },
    {
      "cell_type": "code",
      "metadata": {
        "colab": {
          "base_uri": "https://localhost:8080/"
        },
        "id": "rsBci-omSgz2",
        "outputId": "8901852e-b592-49b1-a0ee-7a7dbc58943c"
      },
      "source": [
        "def isValid(x):\n",
        "    if len(x) not in [16,19]:\n",
        "        return False\n",
        "    if len(x)==19:\n",
        "        if x[4]!='-' or x[9]!='-' or x[14]!='-':\n",
        "            return False\n",
        "    if x[0] not in ['4','5','6']:\n",
        "        return False\n",
        "    if '-' in x:\n",
        "        x=''.join(x.split('-'))\n",
        "    if any(ord(x[i]) not in range(ord('0'),ord('9')+1) for i in range(16)):\n",
        "        return False\n",
        "    if any(str(i)*4 in x for i in range(10)):\n",
        "        return False\n",
        "    return True\n",
        "for _ in range(int(input())):\n",
        "    x=input()\n",
        "    if isValid(x):\n",
        "        print(\"Valid\")\n",
        "    else:\n",
        "        print(\"Invalid\")"
      ],
      "execution_count": null,
      "outputs": [
        {
          "output_type": "stream",
          "text": [
            "2\n",
            "2265-6699-8844-4444\n",
            "Invalid\n",
            "2548-6987-3658-8979\n",
            "Invalid\n"
          ],
          "name": "stdout"
        }
      ]
    },
    {
      "cell_type": "code",
      "metadata": {
        "colab": {
          "base_uri": "https://localhost:8080/"
        },
        "id": "AQFDm7xJeBj4",
        "outputId": "6b561418-aa98-411a-f4b7-befe7c10b44d"
      },
      "source": [
        "x = int(input())\n",
        "y = int(input())\n",
        "z = int(input())\n",
        "n = int(input())\n",
        "l = [[i,j,k] for i in range(x+1) for j in range(y+1) for k in range(z+1) if i+j+k!=n]\n",
        "print(l)"
      ],
      "execution_count": null,
      "outputs": [
        {
          "output_type": "stream",
          "text": [
            "2\n",
            "2\n",
            "2\n",
            "2\n",
            "[[0, 0, 0], [0, 0, 1], [0, 1, 0], [0, 1, 2], [0, 2, 1], [0, 2, 2], [1, 0, 0], [1, 0, 2], [1, 1, 1], [1, 1, 2], [1, 2, 0], [1, 2, 1], [1, 2, 2], [2, 0, 1], [2, 0, 2], [2, 1, 0], [2, 1, 1], [2, 1, 2], [2, 2, 0], [2, 2, 1], [2, 2, 2]]\n"
          ],
          "name": "stdout"
        }
      ]
    },
    {
      "cell_type": "code",
      "metadata": {
        "colab": {
          "base_uri": "https://localhost:8080/"
        },
        "id": "rmIWGprWhDhC",
        "outputId": "a39b72d6-9a2a-4674-8897-0405457dce9b"
      },
      "source": [
        "n = int(input())\n",
        "l = []\n",
        "for i in range(n):\n",
        "    s = []\n",
        "    name = input()\n",
        "    score = float(input())\n",
        "    s.append(name)\n",
        "    s.append(score)\n",
        "    l.append(s)\n",
        "a = []\n",
        "for i in range(len(l)):\n",
        "    a.append(l[i][1])\n",
        "k1 = min(a)\n",
        "l1 = []\n",
        "for i in range(len(a)):\n",
        "    if k1 != a[i]:\n",
        "        l1.append(a[i])\n",
        "y = min(l1)\n",
        "h = []\n",
        "for i in range(len(l)):\n",
        "    if l[i][1] == y:\n",
        "        h.append(l[i][0])\n",
        "h.sort()\n",
        "for i in h:\n",
        "    print(i)"
      ],
      "execution_count": null,
      "outputs": [
        {
          "output_type": "stream",
          "text": [
            "3\n",
            "berry\n",
            "22.3\n",
            "harry\n",
            "21.5\n",
            "kerry\n",
            "22.3\n",
            "berry\n",
            "kerry\n"
          ],
          "name": "stdout"
        }
      ]
    },
    {
      "cell_type": "code",
      "metadata": {
        "id": "pk97jvrApZKp",
        "colab": {
          "base_uri": "https://localhost:8080/"
        },
        "outputId": "37f51323-9f18-4480-f358-6bd8b0188f27"
      },
      "source": [
        "def count_substring(string, sub_string):\n",
        "    c = 0\n",
        "    for i in range(len(string)):\n",
        "       if string[i:].startswith(sub_string):\n",
        "          c = c + 1\n",
        "    return c\n",
        "print(count_substring('ABCDCDC','CDC'))"
      ],
      "execution_count": null,
      "outputs": [
        {
          "output_type": "stream",
          "text": [
            "2\n"
          ],
          "name": "stdout"
        }
      ]
    },
    {
      "cell_type": "code",
      "metadata": {
        "id": "dZgNskD4ToHQ",
        "colab": {
          "base_uri": "https://localhost:8080/"
        },
        "outputId": "4ab498ea-414a-44a1-9d00-cf8da7725034"
      },
      "source": [
        "thickness = int(input()) #This must me an odd number\n",
        "c = 'H'\n",
        "\n",
        "#Top Cone\n",
        "for i in range(thickness):\n",
        "    print((c*i).rjust(thickness-1)+c+(c*i).ljust(thickness-1))"
      ],
      "execution_count": null,
      "outputs": [
        {
          "output_type": "stream",
          "text": [
            "5\n",
            "    H    \n",
            "   HHH   \n",
            "  HHHHH  \n",
            " HHHHHHH \n",
            "HHHHHHHHH\n"
          ],
          "name": "stdout"
        }
      ]
    },
    {
      "cell_type": "code",
      "metadata": {
        "colab": {
          "base_uri": "https://localhost:8080/"
        },
        "id": "9SakvaaJ6YzW",
        "outputId": "54172905-c909-41a0-ce33-3899aafdeba7"
      },
      "source": [
        "s = input()\n",
        "n = int(input())\n",
        "l = len(s)//n\n",
        "i = 0\n",
        "k = l*l\n",
        "while i<k:\n",
        "  print(s[i:l])\n",
        "  i = i+4\n",
        "  l = l+4\n",
        "print(s[k:])\n",
        "\n"
      ],
      "execution_count": null,
      "outputs": [
        {
          "output_type": "stream",
          "text": [
            "ABCDEFGHIJKLMNOPQR\n",
            "4\n",
            "ABCD\n",
            "EFGH\n",
            "IJKL\n",
            "MNOP\n",
            "QR\n"
          ],
          "name": "stdout"
        }
      ]
    },
    {
      "cell_type": "code",
      "metadata": {
        "id": "8RrQuEJu8bnq",
        "colab": {
          "base_uri": "https://localhost:8080/"
        },
        "outputId": "2f9cbaf6-076c-46ef-fdc9-edaf850e4d73"
      },
      "source": [
        "def merge_the_tools(string, k):\n",
        "    l = len(string)\n",
        "    f = k\n",
        "    i = 0\n",
        "    list1 = []\n",
        "    while f <= l:\n",
        "        list1.append(string[i:f])\n",
        "        i += 3\n",
        "        f += 3\n",
        "    res = []\n",
        "    for j in range(len(list1)):\n",
        "        res.append(remdup(list(list1[j])))\n",
        "    \n",
        "    for i in range(len(res)):\n",
        "        print(''.join(res[i]))\n",
        "\n",
        "def remdup(s):\n",
        "    l = []\n",
        "    for i in s:\n",
        "        if i not in l:\n",
        "            l.append(i)\n",
        "    return l\n",
        "string, k = input(), int(input())\n",
        "merge_the_tools(string, k)"
      ],
      "execution_count": null,
      "outputs": [
        {
          "output_type": "stream",
          "text": [
            "AABCAAADA\n",
            "3\n",
            "AB\n",
            "CA\n",
            "AD\n"
          ],
          "name": "stdout"
        }
      ]
    },
    {
      "cell_type": "code",
      "metadata": {
        "colab": {
          "base_uri": "https://localhost:8080/"
        },
        "id": "b-pcRFa35OFZ",
        "outputId": "4b15c407-575e-432f-9a66-856446f55165"
      },
      "source": [
        "def f(x):\n",
        "    a=''\n",
        "    for i in x:\n",
        "        if i not in a:\n",
        "            a=a+i\n",
        "    return a\n",
        "a=input()\n",
        "K=int(input())\n",
        "for i in range(len(a)//K):\n",
        "    print(f(a[K*i:K*(i+1)]))"
      ],
      "execution_count": null,
      "outputs": [
        {
          "output_type": "stream",
          "text": [
            "AABCAAADA\n",
            "3\n",
            "AB\n",
            "CA\n",
            "AD\n"
          ],
          "name": "stdout"
        }
      ]
    },
    {
      "cell_type": "code",
      "metadata": {
        "colab": {
          "base_uri": "https://localhost:8080/"
        },
        "id": "Y-obQ5C1HkJY",
        "outputId": "954be8e5-a157-4740-f1e8-4aae9f76a904"
      },
      "source": [
        "import itertools\n",
        "s,k = input().split(' ')\n",
        "k = int(k)\n",
        "l = list(itertools.permutations(s,k))\n",
        "l.sort()\n",
        "for i in l:\n",
        "    s = ''.join(i)\n",
        "    print(s)\n",
        "    "
      ],
      "execution_count": null,
      "outputs": [
        {
          "output_type": "stream",
          "text": [
            "ABC 2\n",
            "AB\n",
            "AC\n",
            "BA\n",
            "BC\n",
            "CA\n",
            "CB\n"
          ],
          "name": "stdout"
        }
      ]
    },
    {
      "cell_type": "code",
      "metadata": {
        "id": "WlZ_KSLRLtPL",
        "colab": {
          "base_uri": "https://localhost:8080/"
        },
        "outputId": "829a226e-1f98-44cc-b805-c974e9e92575"
      },
      "source": [
        "import itertools\n",
        "\n",
        "s,n = input().split(' ')\n",
        "l = list(itertools.combinations(sorted(s),int(n)))\n",
        "l.sort()\n",
        "k = list(s)\n",
        "k.sort()\n",
        "for i in k:\n",
        "    print(i)\n",
        "for i in l:\n",
        "    print(''.join(i))"
      ],
      "execution_count": null,
      "outputs": [
        {
          "output_type": "stream",
          "text": [
            "ABC 2\n",
            "A\n",
            "B\n",
            "C\n",
            "AB\n",
            "AC\n",
            "BC\n"
          ],
          "name": "stdout"
        }
      ]
    },
    {
      "cell_type": "code",
      "metadata": {
        "colab": {
          "base_uri": "https://localhost:8080/"
        },
        "id": "zef9NNqT4wC_",
        "outputId": "f869806c-37d6-4280-da51-7db1ae3aedfb"
      },
      "source": [
        "from collections import Counter\n",
        "\n",
        "n = int(input())\n",
        "l1 = list(map(int,input().split(' ')))\n",
        "ncus = int(input())\n",
        "sizes = Counter(l1)\n",
        "price = 0\n",
        "for i in range(ncus):\n",
        "  sz,pz = map(int,input().split())\n",
        "  if sizes[sz]:\n",
        "    sizes[sz] -= 1\n",
        "    price += pz\n",
        "print(price)\n"
      ],
      "execution_count": null,
      "outputs": [
        {
          "output_type": "stream",
          "text": [
            "10\n",
            "2 3 4 5 6 8 7 6 5 18\n",
            "6\n",
            "6 55\n",
            "6 45\n",
            "6 55\n",
            "4 20\n",
            "18 100\n",
            "10 5\n",
            "220\n"
          ],
          "name": "stdout"
        }
      ]
    },
    {
      "cell_type": "code",
      "metadata": {
        "colab": {
          "base_uri": "https://localhost:8080/"
        },
        "id": "onCEL8ZYHfah",
        "outputId": "d8140dae-c736-41ec-a19c-8b84849fbdca"
      },
      "source": [
        "import cmath\n",
        "\n",
        "n = complex(input())\n",
        "print(abs(n))\n",
        "print(cmath.phase(n))\n"
      ],
      "execution_count": null,
      "outputs": [
        {
          "output_type": "stream",
          "text": [
            "2+3j\n",
            "3.605551275463989\n",
            "0.982793723247329\n"
          ],
          "name": "stdout"
        }
      ]
    },
    {
      "cell_type": "code",
      "metadata": {
        "colab": {
          "base_uri": "https://localhost:8080/"
        },
        "id": "73zVVvQeLMsE",
        "outputId": "845cc381-8316-45a1-9e55-447543de598e"
      },
      "source": [
        "import math\n",
        "\n",
        "c, a = int(input()), int(input())\n",
        "\n",
        "b = (c**2 + a **2)**0.5\n",
        "\n",
        "C = math.acos((b**2 + a**2 - c**2) / (2*a*b))\n",
        "\n",
        "print(round((180/math.pi)*C))"
      ],
      "execution_count": null,
      "outputs": [
        {
          "output_type": "stream",
          "text": [
            "10\n",
            "10\n",
            "45\n"
          ],
          "name": "stdout"
        }
      ]
    },
    {
      "cell_type": "code",
      "metadata": {
        "colab": {
          "base_uri": "https://localhost:8080/"
        },
        "id": "10VpqZ2D_zYJ",
        "outputId": "cc84ae50-677c-486d-fe3c-46e5c2760b2a"
      },
      "source": [
        "from collections import defaultdict\n",
        "\n",
        "\n",
        "n, m = input().split()\n",
        "n = int(n)\n",
        "m = int(m)\n",
        "d = defaultdict(list)\n",
        "for i in range(n):\n",
        "    d['A'].append(input())\n",
        "l = d['A']\n",
        "for i in range(m):\n",
        "    val = input()\n",
        "    count = 1\n",
        "    new_l = []\n",
        "    for j in l:\n",
        "        if j == val:\n",
        "            new_l.append(count)\n",
        "        count += 1\n",
        "    if len(new_l) == 0:\n",
        "        print(-1)\n",
        "    else:\n",
        "        print(\" \".join(map(str, new_l)))b"
      ],
      "execution_count": null,
      "outputs": [
        {
          "output_type": "stream",
          "text": [
            "5 2\n",
            "a\n",
            "b\n",
            "c\n",
            "a\n",
            "b\n",
            "a\n",
            "1 4\n",
            "b\n",
            "2 5\n"
          ],
          "name": "stdout"
        }
      ]
    },
    {
      "cell_type": "code",
      "metadata": {
        "colab": {
          "base_uri": "https://localhost:8080/"
        },
        "id": "oIsthtV6sXO0",
        "outputId": "47145f9f-a8d6-431f-de66-4b8bb98f21f1"
      },
      "source": [
        "x = ['a','A','aA']\n",
        "x.sort()\n",
        "print(x)"
      ],
      "execution_count": null,
      "outputs": [
        {
          "output_type": "stream",
          "text": [
            "['A', 'a', 'aA']\n"
          ],
          "name": "stdout"
        }
      ]
    },
    {
      "cell_type": "code",
      "metadata": {
        "id": "qNIbuBWgvSKc",
        "colab": {
          "base_uri": "https://localhost:8080/"
        },
        "outputId": "84404b42-ede8-46cb-f9b1-b4ac9685e6f6"
      },
      "source": [
        "print(2)"
      ],
      "execution_count": null,
      "outputs": [
        {
          "output_type": "stream",
          "text": [
            "2\n"
          ],
          "name": "stdout"
        }
      ]
    },
    {
      "cell_type": "code",
      "metadata": {
        "colab": {
          "base_uri": "https://localhost:8080/"
        },
        "id": "pL0U0fsjZE_R",
        "outputId": "138a1200-3eb0-4347-e5b6-dec46755bef1"
      },
      "source": [
        "import numpy as a\n",
        "n,m = map(int,input().split())\n",
        "l,k = [],[]\n",
        "for i in range(n):\n",
        "    l.append(list(map(int,input().split())))\n",
        "    k.append(list(map(int,input().split())))\n",
        "print('{}'.format(a.add(l,k)))\n",
        "print('{}'.format(a.subtract(l,k)))\n",
        "print('{}'.format(a.multiply(l,k)))\n",
        "print('{}'.format(a.floor_divide(l,k)))\n",
        "print('{}'.format(a.mod(l,k)))\n",
        "print('{}'.format(a.power(l,k)))"
      ],
      "execution_count": null,
      "outputs": [
        {
          "output_type": "stream",
          "text": [
            "2 4\n",
            "1 2 3 4\n",
            "1 2 3 4\n",
            "5 6 7 7\n",
            "5 6 7 7\n",
            "[[ 2  4  6  8]\n",
            " [10 12 14 14]]\n",
            "[[0 0 0 0]\n",
            " [0 0 0 0]]\n",
            "[[ 1  4  9 16]\n",
            " [25 36 49 49]]\n",
            "[[1 1 1 1]\n",
            " [1 1 1 1]]\n",
            "[[0 0 0 0]\n",
            " [0 0 0 0]]\n",
            "[[     1      4     27    256]\n",
            " [  3125  46656 823543 823543]]\n"
          ],
          "name": "stdout"
        }
      ]
    },
    {
      "cell_type": "code",
      "metadata": {
        "id": "MaEWGgwiGGMA"
      },
      "source": [
        "s = input()\n",
        "l = [[0,0]]\n",
        "for i in range(len(s)):\n",
        "    if s[i] == l[-1][1]:\n",
        "        l[-1][0] += 1\n",
        "    else:\n",
        "        b = [0,0]\n",
        "        b[1] = s[i]\n",
        "        b[0] += 1\n",
        "        l.append(b)    \n",
        "print(l)"
      ],
      "execution_count": null,
      "outputs": []
    },
    {
      "cell_type": "code",
      "metadata": {
        "colab": {
          "base_uri": "https://localhost:8080/"
        },
        "id": "Tj7WNkiPOGlQ",
        "outputId": "747391f5-31c5-49b2-c30b-cd6f4d532fdf"
      },
      "source": [
        "line = input().split(' ')\n",
        "rows = int(line[0])\n",
        "cols = int(line[1])\n",
        "\n",
        "table = []\n",
        "\n",
        "for i in range(rows):\n",
        "    line = input().split(' ')\n",
        "    table.append([int(x) for x in line])\n",
        "k = int(input())\n",
        "table.sort(key = lambda x : x[k])\n",
        "print(table)"
      ],
      "execution_count": null,
      "outputs": [
        {
          "output_type": "stream",
          "text": [
            "5 3 \n",
            "10 2 5\n",
            "7 1 0\n",
            "9 9 9\n",
            "1 23 12\n",
            "6 5 9\n",
            "1\n",
            "[[7, 1, 0], [10, 2, 5], [6, 5, 9], [9, 9, 9], [1, 23, 12]]\n"
          ],
          "name": "stdout"
        }
      ]
    },
    {
      "cell_type": "code",
      "metadata": {
        "id": "qH3HCnGPOyEA"
      },
      "source": [
        "line = input().split(' ')\n",
        "rows = int(line[0])\n",
        "cols = int(line[1])\n",
        "\n",
        "table = []\n",
        "\n",
        "for i in range(rows):\n",
        "    line = input().split(' ')\n",
        "    table.append([int(x) for x in line])\n",
        "k = int(input())\n"
      ],
      "execution_count": null,
      "outputs": []
    }
  ]
}