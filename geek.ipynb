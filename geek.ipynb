{
  "nbformat": 4,
  "nbformat_minor": 0,
  "metadata": {
    "colab": {
      "name": "geek.ipynb",
      "provenance": [],
      "authorship_tag": "ABX9TyPIbkLEQ2onIcQCJNANtQt8",
      "include_colab_link": true
    },
    "kernelspec": {
      "name": "python3",
      "display_name": "Python 3"
    },
    "language_info": {
      "name": "python"
    }
  },
  "cells": [
    {
      "cell_type": "markdown",
      "metadata": {
        "id": "view-in-github",
        "colab_type": "text"
      },
      "source": [
        "<a href=\"https://colab.research.google.com/github/ellendulasharan/shaan/blob/main/geek.ipynb\" target=\"_parent\"><img src=\"https://colab.research.google.com/assets/colab-badge.svg\" alt=\"Open In Colab\"/></a>"
      ]
    },
    {
      "cell_type": "code",
      "metadata": {
        "colab": {
          "base_uri": "https://localhost:8080/"
        },
        "id": "V-sN1HQzSVec",
        "outputId": "a932c746-6a77-4daa-f818-ea93f2993329"
      },
      "source": [
        "def union(A,B,n,m):\n",
        "  i = 0\n",
        "  j = 0\n",
        "  while i<n and j<m:\n",
        "    if A[i] < B[j]:\n",
        "      print(A[i])\n",
        "      i += 1\n",
        "    elif B[j] < A[i]:\n",
        "      print(B[j])\n",
        "      j += 1\n",
        "    else:\n",
        "      print(B[j])\n",
        "      i += 1\n",
        "      j += 1\n",
        "  while i < n:\n",
        "    print(A[i])\n",
        "    i += 1\n",
        "  while j < m:\n",
        "    print(B[j])\n",
        "    j += 1\n",
        "A = list(map(int,input().split()))\n",
        "B = list(map(int,input().split()))\n",
        "union(A,B,len(A),len(B))"
      ],
      "execution_count": null,
      "outputs": [
        {
          "output_type": "stream",
          "text": [
            "1 3 4 5 7\n",
            "2 3 5 6\n",
            "1\n",
            "2\n",
            "3\n",
            "4\n",
            "5\n",
            "6\n",
            "7\n"
          ],
          "name": "stdout"
        }
      ]
    },
    {
      "cell_type": "code",
      "metadata": {
        "colab": {
          "base_uri": "https://localhost:8080/"
        },
        "id": "VTmzTcc2Tzst",
        "outputId": "81be3e9a-56c0-488f-9dbd-309978e5932a"
      },
      "source": [
        "def intersection(A,B,n,m):\n",
        "  i = 0\n",
        "  j = 0\n",
        "  while i<n and j<m:\n",
        "    if A[i] < B[j]:\n",
        "      i += 1\n",
        "    elif B[j] < A[i]:\n",
        "      j += 1\n",
        "    else:\n",
        "      print(B[j])\n",
        "      i += 1\n",
        "      j += 1\n",
        "A = list(map(int,input().split()))\n",
        "B = list(map(int,input().split()))\n",
        "intersection(A,B,len(A),len(B))"
      ],
      "execution_count": null,
      "outputs": [
        {
          "output_type": "stream",
          "text": [
            "1 3 4 5 7\n",
            "2 3 5 6\n",
            "3\n",
            "5\n"
          ],
          "name": "stdout"
        }
      ]
    },
    {
      "cell_type": "code",
      "metadata": {
        "colab": {
          "base_uri": "https://localhost:8080/"
        },
        "id": "eCZKyvHcUNV4",
        "outputId": "f4fd138d-5f28-4f30-8c0b-42c62e38a0fa"
      },
      "source": [
        "def missing(A):\n",
        "  n = len(A)\n",
        "  x1 = A[0]\n",
        "  x2 = 1\n",
        "  for i in range(1,n):\n",
        "    x1 = x1 ^ A[i]\n",
        "  for i in range(2,n+2):\n",
        "    x2 = x2 ^ i\n",
        "  print(x1)\n",
        "  print(x2)\n",
        "  return (x1 ^ x2)\n",
        "A = list(map(int,input().split()))\n",
        "print(missing(A))"
      ],
      "execution_count": null,
      "outputs": [
        {
          "output_type": "stream",
          "text": [
            "1 2 3 4 5 6 8 9 \n",
            "6\n",
            "1\n",
            "7\n"
          ],
          "name": "stdout"
        }
      ]
    },
    {
      "cell_type": "code",
      "metadata": {
        "colab": {
          "base_uri": "https://localhost:8080/"
        },
        "id": "VMzhRC-qWZSR",
        "outputId": "2cc56463-4260-4ce0-b10a-8c44f1252fb8"
      },
      "source": [
        "import sys \n",
        "\n",
        "def mindis(A,x,y):\n",
        "  md = sys.maxsize\n",
        "  p = -1\n",
        "  i = 0\n",
        "  for i in range(len(A)):\n",
        "    if(A[i] == x or A[i] == y):\n",
        "      if(p != -1 and A[i] != A[p]):\n",
        "        md = min(md,i-p)\n",
        "      p = i\n",
        "  if md == sys.maxsize:\n",
        "    return -1\n",
        "  return md\n",
        "A = list(map(int,input().split()))\n",
        "x,y = map(int,input().split())\n",
        "mindis(A,x,y)"
      ],
      "execution_count": null,
      "outputs": [
        {
          "output_type": "stream",
          "text": [
            "3 5 4 2 6 3 0 0 5 4 8 3\n",
            "3 6\n"
          ],
          "name": "stdout"
        },
        {
          "output_type": "execute_result",
          "data": {
            "text/plain": [
              "1"
            ]
          },
          "metadata": {
            "tags": []
          },
          "execution_count": 16
        }
      ]
    },
    {
      "cell_type": "code",
      "metadata": {
        "colab": {
          "base_uri": "https://localhost:8080/"
        },
        "id": "aLNH4Lt5axnv",
        "outputId": "b8fa2417-d4ce-463e-847b-6b889caaefe5"
      },
      "source": [
        "def leaders(A):\n",
        "  maxfmr = A[-1]\n",
        "  print(maxfmr)\n",
        "  for i in range(len(A)-2,-1,-1):\n",
        "    if maxfmr < A[i]:\n",
        "      print(A[i])\n",
        "      maxfmr = A[i]\n",
        "A = list(map(int,input().split()))\n",
        "leaders(A)"
      ],
      "execution_count": null,
      "outputs": [
        {
          "output_type": "stream",
          "text": [
            "16 17 3 5 2\n",
            "2\n",
            "5\n",
            "17\n"
          ],
          "name": "stdout"
        }
      ]
    },
    {
      "cell_type": "code",
      "metadata": {
        "colab": {
          "base_uri": "https://localhost:8080/"
        },
        "id": "ihrV4BLWdrzO",
        "outputId": "47896ab3-caf0-45c2-8628-29b8038c9557"
      },
      "source": [
        "from collections import Counter\n",
        "A = [1,2,3,4,1,2,3,5,6,8]\n",
        "print(Counter(A))"
      ],
      "execution_count": null,
      "outputs": [
        {
          "output_type": "stream",
          "text": [
            "Counter({1: 2, 2: 2, 3: 2, 4: 1, 5: 1, 6: 1, 8: 1})\n"
          ],
          "name": "stdout"
        }
      ]
    },
    {
      "cell_type": "code",
      "metadata": {
        "colab": {
          "base_uri": "https://localhost:8080/"
        },
        "id": "KWhMHwWHfSj-",
        "outputId": "9f4f4347-943a-4431-cb15-bfe289893227"
      },
      "source": [
        "def gre(A):\n",
        "  maxfmr = A[-1]\n",
        "  A[-1] = -1\n",
        "  for i in range(len(A)-2,-1,-1):\n",
        "    t = A[i]\n",
        "    A[i] = maxfmr\n",
        "    if maxfmr < t:\n",
        "      maxfmr = t\n",
        "A = list(map(int,input().split()))\n",
        "gre(A)\n",
        "print(A)\n",
        "\n"
      ],
      "execution_count": null,
      "outputs": [
        {
          "output_type": "stream",
          "text": [
            "16 17 3 4 5 2\n",
            "[17, 5, 5, 5, 2, -1]\n"
          ],
          "name": "stdout"
        }
      ]
    },
    {
      "cell_type": "code",
      "metadata": {
        "colab": {
          "base_uri": "https://localhost:8080/",
          "height": 330
        },
        "id": "F0PUoo6yjrf4",
        "outputId": "b3ec3adc-3883-489e-c47c-8635cacac882"
      },
      "source": [
        "def trips(A):\n",
        "  for i in range(len(A)):\n",
        "    A[i] = A[i]*A[i]\n",
        "  A.sort()\n",
        "  for i in range(len(A)-1,1,-1):\n",
        "    j = 0\n",
        "    k = i-1\n",
        "    while (j<k):\n",
        "      if A[j] + A[k] == A[i]:\n",
        "        return True\n",
        "      else:\n",
        "        if A[j]+A[k] < A[i]:\n",
        "          j += 1\n",
        "        else:\n",
        "          k += 1\n",
        "  return False\n",
        "A = list(map(int,input().split()))\n",
        "trips(A)"
      ],
      "execution_count": null,
      "outputs": [
        {
          "output_type": "stream",
          "text": [
            "3 1 4 6 5\n"
          ],
          "name": "stdout"
        },
        {
          "output_type": "error",
          "ename": "IndexError",
          "evalue": "ignored",
          "traceback": [
            "\u001b[0;31m---------------------------------------------------------------------------\u001b[0m",
            "\u001b[0;31mIndexError\u001b[0m                                Traceback (most recent call last)",
            "\u001b[0;32m<ipython-input-29-46b7086dbd89>\u001b[0m in \u001b[0;36m<module>\u001b[0;34m()\u001b[0m\n\u001b[1;32m     16\u001b[0m   \u001b[0;32mreturn\u001b[0m \u001b[0;32mFalse\u001b[0m\u001b[0;34m\u001b[0m\u001b[0;34m\u001b[0m\u001b[0m\n\u001b[1;32m     17\u001b[0m \u001b[0mA\u001b[0m \u001b[0;34m=\u001b[0m \u001b[0mlist\u001b[0m\u001b[0;34m(\u001b[0m\u001b[0mmap\u001b[0m\u001b[0;34m(\u001b[0m\u001b[0mint\u001b[0m\u001b[0;34m,\u001b[0m\u001b[0minput\u001b[0m\u001b[0;34m(\u001b[0m\u001b[0;34m)\u001b[0m\u001b[0;34m.\u001b[0m\u001b[0msplit\u001b[0m\u001b[0;34m(\u001b[0m\u001b[0;34m)\u001b[0m\u001b[0;34m)\u001b[0m\u001b[0;34m)\u001b[0m\u001b[0;34m\u001b[0m\u001b[0;34m\u001b[0m\u001b[0m\n\u001b[0;32m---> 18\u001b[0;31m \u001b[0mtrips\u001b[0m\u001b[0;34m(\u001b[0m\u001b[0mA\u001b[0m\u001b[0;34m)\u001b[0m\u001b[0;34m\u001b[0m\u001b[0;34m\u001b[0m\u001b[0m\n\u001b[0m",
            "\u001b[0;32m<ipython-input-29-46b7086dbd89>\u001b[0m in \u001b[0;36mtrips\u001b[0;34m(A)\u001b[0m\n\u001b[1;32m      7\u001b[0m     \u001b[0mk\u001b[0m \u001b[0;34m=\u001b[0m \u001b[0mi\u001b[0m\u001b[0;34m-\u001b[0m\u001b[0;36m1\u001b[0m\u001b[0;34m\u001b[0m\u001b[0;34m\u001b[0m\u001b[0m\n\u001b[1;32m      8\u001b[0m     \u001b[0;32mwhile\u001b[0m \u001b[0;34m(\u001b[0m\u001b[0mj\u001b[0m\u001b[0;34m<\u001b[0m\u001b[0mk\u001b[0m\u001b[0;34m)\u001b[0m\u001b[0;34m:\u001b[0m\u001b[0;34m\u001b[0m\u001b[0;34m\u001b[0m\u001b[0m\n\u001b[0;32m----> 9\u001b[0;31m       \u001b[0;32mif\u001b[0m \u001b[0mA\u001b[0m\u001b[0;34m[\u001b[0m\u001b[0mj\u001b[0m\u001b[0;34m]\u001b[0m \u001b[0;34m+\u001b[0m \u001b[0mA\u001b[0m\u001b[0;34m[\u001b[0m\u001b[0mk\u001b[0m\u001b[0;34m]\u001b[0m \u001b[0;34m==\u001b[0m \u001b[0mA\u001b[0m\u001b[0;34m[\u001b[0m\u001b[0mi\u001b[0m\u001b[0;34m]\u001b[0m\u001b[0;34m:\u001b[0m\u001b[0;34m\u001b[0m\u001b[0;34m\u001b[0m\u001b[0m\n\u001b[0m\u001b[1;32m     10\u001b[0m         \u001b[0;32mreturn\u001b[0m \u001b[0;32mTrue\u001b[0m\u001b[0;34m\u001b[0m\u001b[0;34m\u001b[0m\u001b[0m\n\u001b[1;32m     11\u001b[0m       \u001b[0;32melse\u001b[0m\u001b[0;34m:\u001b[0m\u001b[0;34m\u001b[0m\u001b[0;34m\u001b[0m\u001b[0m\n",
            "\u001b[0;31mIndexError\u001b[0m: list index out of range"
          ]
        }
      ]
    },
    {
      "cell_type": "code",
      "metadata": {
        "colab": {
          "base_uri": "https://localhost:8080/"
        },
        "id": "M1sLQoKLmHs3",
        "outputId": "07821f1c-2df1-499e-9a82-0f7d10524bf7"
      },
      "source": [
        "def isTriplet(ar, n):\n",
        "    # Square all the elemennts\n",
        "    for i in range(n):\n",
        "        ar[i] = ar[i] * ar[i]\n",
        " \n",
        "    # sort array elements\n",
        "    ar.sort()\n",
        " \n",
        "    # fix one element\n",
        "    # and find other two\n",
        "    # i goes from n - 1 to 2\n",
        "    for i in range(n-1, 1, -1):\n",
        "        # start two index variables from\n",
        "        # two corners of the array and\n",
        "        # move them toward each other\n",
        "        j = 0\n",
        "        k = i - 1\n",
        "        while (j < k):\n",
        "            # A triplet found\n",
        "            if (ar[j] + ar[k] == ar[i]):\n",
        "                return True\n",
        "            else:\n",
        "                if (ar[j] + ar[k] < ar[i]):\n",
        "                    j = j + 1\n",
        "                else:\n",
        "                    k = k - 1\n",
        "    # If we reach here, then no triplet found\n",
        "    return False\n",
        "isTriplet(list(map(int,input().split())),int(input()))"
      ],
      "execution_count": null,
      "outputs": [
        {
          "output_type": "stream",
          "text": [
            "3 1 4 5 6\n",
            "5\n"
          ],
          "name": "stdout"
        },
        {
          "output_type": "execute_result",
          "data": {
            "text/plain": [
              "True"
            ]
          },
          "metadata": {
            "tags": []
          },
          "execution_count": 30
        }
      ]
    },
    {
      "cell_type": "code",
      "metadata": {
        "colab": {
          "base_uri": "https://localhost:8080/"
        },
        "id": "WSbp9pxjmhYN",
        "outputId": "6b94effb-99fb-4db2-9a08-d235d5794d2a"
      },
      "source": [
        "a = [2]*20\n",
        "a"
      ],
      "execution_count": null,
      "outputs": [
        {
          "output_type": "execute_result",
          "data": {
            "text/plain": [
              "[2, 2, 2, 2, 2, 2, 2, 2, 2, 2, 2, 2, 2, 2, 2, 2, 2, 2, 2, 2]"
            ]
          },
          "metadata": {
            "tags": []
          },
          "execution_count": 31
        }
      ]
    },
    {
      "cell_type": "code",
      "metadata": {
        "colab": {
          "base_uri": "https://localhost:8080/"
        },
        "id": "HMVZg-tYj6BO",
        "outputId": "32f719b2-301b-41d8-eda5-3bc9950a8cdd"
      },
      "source": [
        "class twostacks:\n",
        "  def __init__(self,n):\n",
        "    self.size = n\n",
        "    self.top1 = -1\n",
        "    self.top2 = self.size\n",
        "    self.arr = [None]*n\n",
        "  def push1(self,x):\n",
        "    if self.top1 < self.top2-1:\n",
        "      self.top1 += 1\n",
        "      self.arr[self.top1] = x\n",
        "    else:\n",
        "      print(\"stack overflow\")\n",
        "      exit(1)\n",
        "  def push2(self,x):\n",
        "    if self.top1 < self.top2-1:\n",
        "      self.top2 -= 1\n",
        "      self.arr[self.top2] = x\n",
        "    else:\n",
        "      print(\"stack overflow\")\n",
        "      exit(1)\n",
        "  def pop1(self):\n",
        "    if self.top1 > 0:\n",
        "      x = self.arr[self.top1]\n",
        "      self.top1 -= 1\n",
        "      return x\n",
        "    else:\n",
        "      print(\"stack underflow\")\n",
        "      exit(1)\n",
        "  def pop2(self):\n",
        "    if self.top2 < self.size:\n",
        "      x = self.arr[self.top2]\n",
        "      self.top2 += 1\n",
        "      return x\n",
        "    else:\n",
        "      print(\"stack underflow\")\n",
        "      exit(1)\n",
        "ts = twostacks(5)\n",
        "ts.push1(5)\n",
        "ts.push2(10)\n",
        "ts.push2(15)\n",
        "ts.push1(11)\n",
        "ts.push2(7)\n",
        "print(\"Popped element from stack1 is \" + str(ts.pop1()))\n",
        "ts.push2(40)\n",
        "print(\"Popped element from stack2 is \" + str(ts.pop2()))\n"
      ],
      "execution_count": null,
      "outputs": [
        {
          "output_type": "stream",
          "text": [
            "Popped element from stack1 is 11\n",
            "Popped element from stack2 is 40\n"
          ],
          "name": "stdout"
        }
      ]
    },
    {
      "cell_type": "code",
      "metadata": {
        "colab": {
          "base_uri": "https://localhost:8080/"
        },
        "id": "jqyq7OU72kpn",
        "outputId": "db3e566d-ae45-4cd8-ae7d-7e0fe180200b"
      },
      "source": [
        "numRay = [0, 4, 3, 2, 7, 8, 2, 3, 1]\n",
        "arr_size = len(numRay)\n",
        "for i in range(arr_size):\n",
        " \n",
        "    x = numRay[i] % arr_size\n",
        "    numRay[x] = numRay[x] + arr_size\n",
        "print(numRay)\n",
        " \n",
        "print(\"The repeating elements are : \")\n",
        "for i in range(arr_size):\n",
        "    if (numRay[i] >= arr_size*2):\n",
        "        print(i, \" \")"
      ],
      "execution_count": null,
      "outputs": [
        {
          "output_type": "stream",
          "text": [
            "[9, 13, 21, 20, 16, 8, 2, 12, 10]\n",
            "The repeating elements are : \n",
            "2  \n",
            "3  \n"
          ],
          "name": "stdout"
        }
      ]
    },
    {
      "cell_type": "code",
      "metadata": {
        "colab": {
          "base_uri": "https://localhost:8080/"
        },
        "id": "KB2A5DQe_-b7",
        "outputId": "1f2528a1-4c32-4459-8e56-75c300bef747"
      },
      "source": [
        "def odd(n):\n",
        "  return(n & 1)\n",
        "odd(201)"
      ],
      "execution_count": null,
      "outputs": [
        {
          "output_type": "execute_result",
          "data": {
            "text/plain": [
              "1"
            ]
          },
          "metadata": {
            "tags": []
          },
          "execution_count": 6
        }
      ]
    },
    {
      "cell_type": "code",
      "metadata": {
        "colab": {
          "base_uri": "https://localhost:8080/"
        },
        "id": "25nt5KQCCwNz",
        "outputId": "b76b1d4b-5ba4-4caf-da31-58efb13dd2f8"
      },
      "source": [
        "def numstepstodesarr(A):\n",
        "  n = len(A)\n",
        "  res = 0\n",
        "  while(True):\n",
        "    zc = 0\n",
        "    i = 0\n",
        "    while(i < n):\n",
        "      if ((A[i] & 1) > 0):\n",
        "        break\n",
        "      elif A[i] == 0:\n",
        "        zc += 1\n",
        "      i += 1\n",
        "    if zc == n:\n",
        "      return res\n",
        "    if i == n:\n",
        "      for j in range(n):\n",
        "        A[j] //= 2\n",
        "      res += 1\n",
        "    for j in range(i,n):\n",
        "      if (A[j] & 1):\n",
        "        A[j] -= 1\n",
        "        res += 1\n",
        "print(numstepstodesarr([16,5,6]))"
      ],
      "execution_count": null,
      "outputs": [
        {
          "output_type": "stream",
          "text": [
            "9\n"
          ],
          "name": "stdout"
        }
      ]
    },
    {
      "cell_type": "code",
      "metadata": {
        "colab": {
          "base_uri": "https://localhost:8080/"
        },
        "id": "ews02Znp0LdF",
        "outputId": "89116298-ea6b-4be1-bdbc-88030b7adbcf"
      },
      "source": [
        "def minofpal(A):\n",
        "  i,j = 0,len(A)-1\n",
        "  ans = 0\n",
        "  while i <= j:\n",
        "    if A[i] == A[j]:\n",
        "      i += 1\n",
        "      j -= 1\n",
        "    elif A[i] < A[j]:\n",
        "      i += 1\n",
        "      A[i] = A[i] + A[i-1]\n",
        "      ans += 1\n",
        "    else:\n",
        "      j -= 1\n",
        "      A[j] = A[j] + A[j+1]\n",
        "      ans += 1\n",
        "  print(A)\n",
        "  return ans\n",
        "minofpal([1,2,3])\n"
      ],
      "execution_count": null,
      "outputs": [
        {
          "output_type": "stream",
          "text": [
            "[1, 3, 3]\n"
          ],
          "name": "stdout"
        },
        {
          "output_type": "execute_result",
          "data": {
            "text/plain": [
              "1"
            ]
          },
          "metadata": {
            "tags": []
          },
          "execution_count": 12
        }
      ]
    },
    {
      "cell_type": "code",
      "metadata": {
        "id": "hb2ILSzO-sAl"
      },
      "source": [
        ""
      ],
      "execution_count": null,
      "outputs": []
    },
    {
      "cell_type": "code",
      "metadata": {
        "colab": {
          "base_uri": "https://localhost:8080/"
        },
        "id": "yd-6_0lu1lEo",
        "outputId": "c9516db3-0dfc-4438-a41e-dba475f5d565"
      },
      "source": [
        "def moveztoend(A):\n",
        "  count = []\n",
        "  for i in A:\n",
        "    if i == 0:\n",
        "      A.remove(i)\n",
        "      count.append(i)\n",
        "  A = A+count\n",
        "  print(len(count))\n",
        "  print(A)\n",
        "moveztoend([0,2,0,1,0,2,5,6,9,8,7,0,3,6,0,5,6,0,7,0,0,0,0,0,0,0,0])"
      ],
      "execution_count": null,
      "outputs": [
        {
          "output_type": "stream",
          "text": [
            "10\n",
            "[2, 1, 2, 5, 6, 9, 8, 7, 3, 6, 5, 6, 7, 0, 0, 0, 0, 0, 0, 0, 0, 0, 0, 0, 0, 0, 0]\n"
          ],
          "name": "stdout"
        }
      ]
    },
    {
      "cell_type": "code",
      "metadata": {
        "colab": {
          "base_uri": "https://localhost:8080/"
        },
        "id": "5gz9aWPP-FEq",
        "outputId": "9b1e2b11-193d-4850-f4f5-4ec3abd3fe76"
      },
      "source": [
        "def maxdiff(A):\n",
        "  maxdif = A[1] - A[0]\n",
        "  min = A[0]\n",
        "  for i in range(1,len(A)):\n",
        "    if A[i] - min > maxdif:\n",
        "      maxdif = A[i] - min\n",
        "    if A[i] < min:\n",
        "      min = A[i]\n",
        "  return maxdif\n",
        "maxdiff([1,2,6,80,100])\n"
      ],
      "execution_count": null,
      "outputs": [
        {
          "output_type": "execute_result",
          "data": {
            "text/plain": [
              "99"
            ]
          },
          "metadata": {
            "tags": []
          },
          "execution_count": 23
        }
      ]
    },
    {
      "cell_type": "markdown",
      "metadata": {
        "id": "09bhFxXDNHVM"
      },
      "source": [
        "\n",
        "\n",
        "\n",
        "1.   1 2 3\n",
        "2.   4 5 6\n",
        "3.   7 8 9\n",
        "\n",
        "\n",
        "1.  1 2 3 4 5\n",
        "2.  6 7 8 9 10\n",
        "3.  11 12 13 14 15\n",
        "\n",
        "\n",
        "\n"
      ]
    },
    {
      "cell_type": "code",
      "metadata": {
        "colab": {
          "base_uri": "https://localhost:8080/"
        },
        "id": "5zSwAm-i_Q4S",
        "outputId": "50689534-28ae-418a-ce9b-81b573e2a054"
      },
      "source": [
        "def matspiral(A,m,n):\n",
        "  k = 0\n",
        "  l = 0\n",
        "  while(k<m and l<n):\n",
        "    for i in range(l,n):\n",
        "      print(A[k][i],end = \" \")\n",
        "    k += 1\n",
        "    for i in range(k,m):\n",
        "      print(A[i][n-1],end = \" \")\n",
        "    n -= 1\n",
        "    if k<m:\n",
        "      for i in range(n-1,l-1,-1):\n",
        "        print(A[m-1][i],end = \" \")\n",
        "      m -= 1\n",
        "    if l<n:\n",
        "      for i in range(m-1,k-1,-1):\n",
        "        print(A[i][l],end = \" \")\n",
        "      l += 1\n",
        "  print()\n",
        "A = [[1,2,3,4,5],[6,7,8,9,10],[11,12,13,14,15]]\n",
        "matspiral(A,len(A),len(A[0]))\n",
        "B = [[1,2,3],[4,5,6,],[7,8,9]]\n",
        "matspiral(B,len(B),len(B[0]))\n",
        "\n",
        "\n",
        "  "
      ],
      "execution_count": null,
      "outputs": [
        {
          "output_type": "stream",
          "text": [
            "1 2 3 4 5 10 15 14 13 12 11 6 7 8 9 \n",
            "1 2 3 6 9 8 7 4 5 \n"
          ],
          "name": "stdout"
        }
      ]
    },
    {
      "cell_type": "code",
      "metadata": {
        "colab": {
          "base_uri": "https://localhost:8080/"
        },
        "id": "bXUqCUOHoc58",
        "outputId": "b89a3593-9c61-42e0-b659-1e1709be7df2"
      },
      "source": [
        "def reve(A):\n",
        "  i = 0\n",
        "  j = len(A)-1\n",
        "  while(i<j):\n",
        "    if not (A[i].isalpha()):\n",
        "      i += 1\n",
        "    elif not (A[j].isalpha()):\n",
        "      j -= 1\n",
        "    else:\n",
        "      A[i],A[j] = A[j],A[i]\n",
        "      i += 1\n",
        "      j -= 1\n",
        "  print(A)\n",
        "\n",
        "S = \"a!!!b.c.d,e'f,ghi\"\n",
        "reve(list(S))\n",
        "#  i    !    !    !    h    .    g    .    f    ,    e    '    d    ,    c    b    a "
      ],
      "execution_count": null,
      "outputs": [
        {
          "output_type": "stream",
          "text": [
            "['i', '!', '!', '!', 'h', '.', 'g', '.', 'f', ',', 'e', \"'\", 'd', ',', 'c', 'b', 'a']\n"
          ],
          "name": "stdout"
        }
      ]
    },
    {
      "cell_type": "code",
      "metadata": {
        "colab": {
          "base_uri": "https://localhost:8080/"
        },
        "id": "T4m_QgjIqM3a",
        "outputId": "d7bfce35-4abd-448d-b155-30fa5e6812ac"
      },
      "source": [
        "def contriplets(A,sum):\n",
        "  A.sort()\n",
        "  ans = 0\n",
        "  for i in range(len(A)-2):\n",
        "    j = i+1\n",
        "    k = len(A)-1\n",
        "    while j < k:\n",
        "      if A[i]+A[j]+A[k] >= sum:\n",
        "        k -= 1\n",
        "      else:\n",
        "        ans += (k-j)\n",
        "        j += 1\n",
        "  return ans\n",
        "\n",
        "contriplets([5, 1, 3, 4, 7],12)"
      ],
      "execution_count": null,
      "outputs": [
        {
          "output_type": "execute_result",
          "data": {
            "text/plain": [
              "4"
            ]
          },
          "metadata": {
            "tags": []
          },
          "execution_count": 4
        }
      ]
    },
    {
      "cell_type": "code",
      "metadata": {
        "colab": {
          "base_uri": "https://localhost:8080/"
        },
        "id": "Gkpu6TqVaT4o",
        "outputId": "9736e98c-97f3-431c-f494-29c4308e03c4"
      },
      "source": [
        "def min(x, y):\n",
        "    return x if(x < y) else y\n",
        "     \n",
        "def max(x, y):\n",
        "    return x if(x > y) else y\n",
        "def lenofconarr(A):\n",
        "  maxlen = 1\n",
        "  for i in range(len(A)-1):\n",
        "    mn = A[i]\n",
        "    mx = A[i]\n",
        "    for j in range(i+1,len(A)):\n",
        "      mn = min(mn,A[j])\n",
        "      mx = max(mx,A[j])\n",
        "      if ((mx-mn) == j-i):\n",
        "        maxlen = max(maxlen,mx-mn+1)\n",
        "  return maxlen\n",
        "lenofconarr([[1, 56, 58, 57, 90, 92, 94, 93, 91, 45]])"
      ],
      "execution_count": null,
      "outputs": [
        {
          "output_type": "execute_result",
          "data": {
            "text/plain": [
              "1"
            ]
          },
          "metadata": {
            "tags": []
          },
          "execution_count": 13
        }
      ]
    },
    {
      "cell_type": "code",
      "metadata": {
        "colab": {
          "base_uri": "https://localhost:8080/"
        },
        "id": "yl9lbxaqjRL6",
        "outputId": "65f822ed-7f94-4800-970a-b7719701dc42"
      },
      "source": [
        "def lenofconarr(A):\n",
        "  maxlen = 1\n",
        "  for i in range(len(A)-1):\n",
        "    mn = A[i]\n",
        "    mx = A[i]\n",
        "    for j in range(i+1,len(A)):\n",
        "      mn = min(mn,A[j])\n",
        "      mx = max(mx,A[j])\n",
        "      if ((mx-mn) == j-i):\n",
        "        maxlen = max(maxlen,mx-mn+1)\n",
        "  return maxlen\n",
        "lenofconarr([1, 56, 58, 57, 90, 92, 94, 93, 91, 45])"
      ],
      "execution_count": null,
      "outputs": [
        {
          "output_type": "execute_result",
          "data": {
            "text/plain": [
              "5"
            ]
          },
          "metadata": {
            "tags": []
          },
          "execution_count": 16
        }
      ]
    },
    {
      "cell_type": "markdown",
      "metadata": {
        "id": "D62VcMx2uxcz"
      },
      "source": [
        "maximum sum such that no two elements are adjacent"
      ]
    },
    {
      "cell_type": "code",
      "metadata": {
        "colab": {
          "base_uri": "https://localhost:8080/"
        },
        "id": "f051hcbcu3v-",
        "outputId": "b91f134e-95aa-4950-842a-04f3c6f4a498"
      },
      "source": [
        "def findmax(arr):\n",
        "  inc = arr[0]\n",
        "  exl = 0\n",
        "  for i in arr[1:]:\n",
        "    newexl = max(inc,exl)\n",
        "    inc = exl + i\n",
        "    exl = newexl\n",
        "  return max(inc,exl)\n",
        "findmax([5, 5, 10, 100, 10, 5])"
      ],
      "execution_count": null,
      "outputs": [
        {
          "output_type": "execute_result",
          "data": {
            "text/plain": [
              "110"
            ]
          },
          "metadata": {
            "tags": []
          },
          "execution_count": 3
        }
      ]
    },
    {
      "cell_type": "markdown",
      "metadata": {
        "id": "t5id55wWx8Ip"
      },
      "source": [
        "maximum product of two elements in an array"
      ]
    },
    {
      "cell_type": "code",
      "metadata": {
        "colab": {
          "base_uri": "https://localhost:8080/"
        },
        "id": "YHDUSkBHwWUD",
        "outputId": "fb91c1e0-005c-4363-a820-7bbc91237c45"
      },
      "source": [
        "def maaxpro(arr):\n",
        "  n,m = 0,0\n",
        "  arr.sort()\n",
        "  s1,s2 = arr[0]+arr[1],arr[len(arr)-1]+arr[len(arr)-2]\n",
        "  if s1>s2:\n",
        "    n,m = arr[0],arr[1]\n",
        "  else:\n",
        "    n,m = arr[n-2],arr[n-1]\n",
        "  return (n,m)\n",
        "maaxpro([1, 4, 3, 6, 7, 0])"
      ],
      "execution_count": null,
      "outputs": [
        {
          "output_type": "execute_result",
          "data": {
            "text/plain": [
              "(6, 7)"
            ]
          },
          "metadata": {
            "tags": []
          },
          "execution_count": 4
        }
      ]
    },
    {
      "cell_type": "markdown",
      "metadata": {
        "id": "qCGlIUzHz-q8"
      },
      "source": [
        "find a pair of given difference"
      ]
    },
    {
      "cell_type": "code",
      "metadata": {
        "colab": {
          "base_uri": "https://localhost:8080/"
        },
        "id": "EFRHd9Tiy339",
        "outputId": "673eb426-1297-45b2-c53e-2ed840508e72"
      },
      "source": [
        "def findpair(arr,n):\n",
        "  arr.sort()\n",
        "  i,j=0,1\n",
        "  while i<len(arr) and j<len(arr):\n",
        "    if i!=j and arr[j] - arr[i] == n:\n",
        "      return (arr[i],arr[j])\n",
        "    elif arr[j] - arr[i] < n:\n",
        "      j += 1\n",
        "    else:\n",
        "      i += 1\n",
        "  return False\n",
        "findpair([1, 8, 30, 40, 100],60)\n"
      ],
      "execution_count": null,
      "outputs": [
        {
          "output_type": "execute_result",
          "data": {
            "text/plain": [
              "(40, 100)"
            ]
          },
          "metadata": {
            "tags": []
          },
          "execution_count": 7
        }
      ]
    },
    {
      "cell_type": "markdown",
      "metadata": {
        "id": "OtBT1Gwz3WbC"
      },
      "source": [
        "find largest pair sum in an unsorted array"
      ]
    },
    {
      "cell_type": "code",
      "metadata": {
        "colab": {
          "base_uri": "https://localhost:8080/"
        },
        "id": "-J_QBGA_3QAF",
        "outputId": "1157a6ee-c21c-4680-df1d-dfe4d35610b3"
      },
      "source": [
        "def larpair(arr):\n",
        "  if(arr[0]>arr[1]):\n",
        "    first = arr[0]\n",
        "    second = arr[1]\n",
        "  else:\n",
        "    first = arr[1]\n",
        "    second = arr[0]\n",
        "  for i in arr[2:]:\n",
        "    if(i>first):\n",
        "      first,second = i,first\n",
        "    elif i>second and i!=first:\n",
        "      second = i\n",
        "  return (first+second)\n",
        "larpair([12, 34, 10, 6, 40])"
      ],
      "execution_count": null,
      "outputs": [
        {
          "output_type": "execute_result",
          "data": {
            "text/plain": [
              "74"
            ]
          },
          "metadata": {
            "tags": []
          },
          "execution_count": 8
        }
      ]
    },
    {
      "cell_type": "code",
      "metadata": {
        "colab": {
          "base_uri": "https://localhost:8080/"
        },
        "id": "GNm2FVHUN_Tf",
        "outputId": "3ca30c11-d3f2-4613-e230-59f45849cb94"
      },
      "source": [
        "def binsearch(arr,n,l,r):\n",
        "  if(r<l):\n",
        "    return -1\n",
        "  mid = (l+r)//2\n",
        "  if arr[mid] == n:\n",
        "    return mid\n",
        "  if arr[mid] > n:\n",
        "    return binsearch(arr,n,l,mid-1)\n",
        "  return binsearch(arr,n,mid+1,r)\n",
        "def contocc(arr,n):\n",
        "  ind = binsearch(arr,n,0,len(arr)-1)\n",
        "  if ind == -1:\n",
        "    return 0\n",
        "  count = 1\n",
        "  left = ind-1\n",
        "  while(left>=0):\n",
        "    if(arr[left] == n):\n",
        "      count += 1\n",
        "    left -= 1\n",
        "  right = ind+1\n",
        "  while(right<=len(arr)-1):\n",
        "    if(arr[right] == n):\n",
        "      count += 1\n",
        "    right += 1\n",
        "  return count\n",
        "contocc([1,1,1,2,2,2],2)"
      ],
      "execution_count": null,
      "outputs": [
        {
          "output_type": "execute_result",
          "data": {
            "text/plain": [
              "3"
            ]
          },
          "metadata": {
            "tags": []
          },
          "execution_count": 5
        }
      ]
    },
    {
      "cell_type": "code",
      "metadata": {
        "colab": {
          "base_uri": "https://localhost:8080/"
        },
        "id": "7-LSTHGkRAPk",
        "outputId": "249206d3-27b6-4069-f256-ba3d9b22d745"
      },
      "source": [
        "l = 0\n",
        "r = 9\n",
        "mid = int( l + r )//2\n",
        "print(mid)"
      ],
      "execution_count": null,
      "outputs": [
        {
          "output_type": "stream",
          "text": [
            "4\n"
          ],
          "name": "stdout"
        }
      ]
    },
    {
      "cell_type": "markdown",
      "metadata": {
        "id": "1JjwGlWxd_Kb"
      },
      "source": [
        "insert elements into sorted array"
      ]
    },
    {
      "cell_type": "code",
      "metadata": {
        "colab": {
          "base_uri": "https://localhost:8080/"
        },
        "id": "sw50UITJSl24",
        "outputId": "d3f0f71e-4f5f-4d62-cddb-38364c5ebf4b"
      },
      "source": [
        "def insertsorted(arr,n,cap,key):\n",
        "  if(n >= cap):\n",
        "    return n\n",
        "  i = n-1\n",
        "  while (i >= 0 and arr[i] > key):\n",
        "    arr[i+1] = arr[i]\n",
        "    i -= 1\n",
        "  arr[i+1] = key\n",
        "  print(arr[:n+1])\n",
        "arr = [12, 16, 20, 40, 50, 70]\n",
        "n = len(arr)\n",
        "for i in range(20):\n",
        "  arr.append(0)\n",
        "cap = len(arr)\n",
        "insertsorted(arr,n,cap,10)"
      ],
      "execution_count": null,
      "outputs": [
        {
          "output_type": "stream",
          "text": [
            "[10, 12, 16, 20, 40, 50, 70]\n"
          ],
          "name": "stdout"
        }
      ]
    },
    {
      "cell_type": "code",
      "metadata": {
        "colab": {
          "base_uri": "https://localhost:8080/"
        },
        "id": "2SvyvnzbeAeP",
        "outputId": "e2dc4572-e2db-421d-f10f-22798242bf95"
      },
      "source": [
        "def cnttripstozero(arr):\n",
        "  arr.sort()\n",
        "  found = False\n",
        "  for i in range(len(arr)-1):\n",
        "    l = i+1\n",
        "    r = len(arr)-1\n",
        "    x = arr[i]\n",
        "    while(l<r):\n",
        "      if (x+arr[l]+arr[r] == 0):\n",
        "        print(x,arr[l],arr[r])\n",
        "        l += 1\n",
        "        r -= 1\n",
        "        found = True\n",
        "      elif x+arr[l]+arr[r] <= 0:\n",
        "        l += 1\n",
        "      else:\n",
        "        r -= 1\n",
        "  if(found == False):\n",
        "    print(\"not found\")\n",
        "cnttripstozero([0, -1, 2, -3, 1])"
      ],
      "execution_count": null,
      "outputs": [
        {
          "output_type": "stream",
          "text": [
            "-3 1 2\n",
            "-1 0 1\n"
          ],
          "name": "stdout"
        }
      ]
    },
    {
      "cell_type": "code",
      "metadata": {
        "colab": {
          "base_uri": "https://localhost:8080/"
        },
        "id": "He5lgL1t7J2B",
        "outputId": "439b2438-8bda-475e-80a8-c94588bf281b"
      },
      "source": [
        "s = list(map(str,input().split()))\n",
        "i = 0\n",
        "j=len(s)-1\n",
        "l = ['a','e','i','o','u','A','E','I','O','U']\n",
        "while(i<j):\n",
        "    if (s[i] in l) and (s[j] in l):\n",
        "        s[i],s[j] = s[j],s[i]\n",
        "        i += 1\n",
        "        j -= 1\n",
        "    elif (s[i] in l) and (s[j] not in l):\n",
        "        j -= 1\n",
        "    elif (s[i] not in l) and (s[j] in l):\n",
        "        i += 1\n",
        "    else:\n",
        "        i += 1\n",
        "        j -= 1\n",
        "print(\"\".join(s))"
      ],
      "execution_count": null,
      "outputs": [
        {
          "output_type": "stream",
          "text": [
            "trumpisshit\n",
            "trumpisshit\n"
          ],
          "name": "stdout"
        }
      ]
    },
    {
      "cell_type": "code",
      "metadata": {
        "colab": {
          "base_uri": "https://localhost:8080/"
        },
        "id": "6cJbqWS0xbuU",
        "outputId": "8e836bab-a8f7-483e-fa15-0f5cc6e77f88"
      },
      "source": [
        ""
      ],
      "execution_count": null,
      "outputs": [
        {
          "output_type": "stream",
          "text": [
            "32\n"
          ],
          "name": "stdout"
        }
      ]
    },
    {
      "cell_type": "code",
      "metadata": {
        "colab": {
          "base_uri": "https://localhost:8080/"
        },
        "id": "JLp4VsoV3c2p",
        "outputId": "d68b2b18-b30b-4627-f75c-bc93e89280ef"
      },
      "source": [
        "n = int(input())\n",
        "for i in range(n):\n",
        "    k = list(input())\n",
        "    j=len(k)-1\n",
        "    while(j>0):\n",
        "        if k[j] != '0':\n",
        "            k[0],k[j] = k[j],k[0]\n",
        "            break\n",
        "        elif k[j] == '0':\n",
        "            j -= 1\n",
        "    print(''.join(k))"
      ],
      "execution_count": null,
      "outputs": [
        {
          "output_type": "stream",
          "text": [
            "2\n",
            "123000\n",
            "321000\n",
            "52360\n",
            "62350\n"
          ],
          "name": "stdout"
        }
      ]
    },
    {
      "cell_type": "markdown",
      "metadata": {
        "id": "T9pYp4x2p24T"
      },
      "source": [
        "find the third largest element in an array of distinct elements"
      ]
    },
    {
      "cell_type": "code",
      "metadata": {
        "colab": {
          "base_uri": "https://localhost:8080/"
        },
        "id": "myGpZwCr5GLq",
        "outputId": "d0aa89f1-9191-4549-c591-871729430539"
      },
      "source": [
        "import sys\n",
        "def thirdlar(A,n):\n",
        "  if(n<3):\n",
        "    return\n",
        "  first = A[0]\n",
        "  second = sys.maxsize\n",
        "  third = sys.maxsize\n",
        "  for i in range(1,len(A)):\n",
        "    if \n",
        "    (A[i]>first):\n",
        "      third = second\n",
        "      second = first\n",
        "      first = A[i]\n",
        "    elif A[i] > second:\n",
        "      third = second\n",
        "      second = A[i]\n",
        "    else:\n",
        "      third = A[i]\n",
        "  return third\n",
        "\n",
        "k = list(map(int,input().split()))\n",
        "print(thirdlar(k,len(k)))"
      ],
      "execution_count": null,
      "outputs": [
        {
          "output_type": "stream",
          "text": [
            "12 13 1 10 34 16\n",
            "13\n"
          ],
          "name": "stdout"
        }
      ]
    },
    {
      "cell_type": "markdown",
      "metadata": {
        "id": "egJbKgPMXqrc"
      },
      "source": [
        "find a pair whose sum is closest to given value\n"
      ]
    },
    {
      "cell_type": "code",
      "metadata": {
        "id": "pSL4lELqpzhM",
        "colab": {
          "base_uri": "https://localhost:8080/"
        },
        "outputId": "af0d903e-ed69-4f14-fa47-0d9f40f42344"
      },
      "source": [
        "def closestsum(arr,x):\n",
        "  diff = 1000000\n",
        "  res_l,res_r=0,0\n",
        "  l,r=0,(len(arr)-1)\n",
        "  while l<r:\n",
        "    if abs(arr[l]+arr[r]-x) < diff:\n",
        "      res_l = l\n",
        "      res_r = r\n",
        "      diff = abs(arr[l]+arr[r]-x)\n",
        "    if arr[l]+arr[r] > x:\n",
        "      r-=1\n",
        "    else:\n",
        "      l+=1\n",
        "  print(arr[res_l],arr[res_r])\n",
        "arr = [10, 22, 28, 29, 30, 40]\n",
        "x=54\n",
        "closestsum(arr,x)\n"
      ],
      "execution_count": null,
      "outputs": [
        {
          "output_type": "stream",
          "text": [
            "22 30\n"
          ],
          "name": "stdout"
        }
      ]
    }
  ]
}